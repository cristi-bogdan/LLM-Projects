{
 "cells": [
  {
   "cell_type": "code",
   "execution_count": null,
   "id": "66118662-c941-41c9-ac0d-91ed3858534a",
   "metadata": {},
   "outputs": [],
   "source": [
    "import os\n",
    "import base64\n",
    "\n",
    "from dotenv import load_dotenv\n",
    "from io import BytesIO\n",
    "from PIL import Image\n",
    "from IPython.display import display\n",
    "from openai import OpenAI"
   ]
  },
  {
   "cell_type": "code",
   "execution_count": null,
   "id": "351bed71-27c4-4c30-b782-0620a30accd8",
   "metadata": {},
   "outputs": [],
   "source": [
    "#-------------------------Method 1 (Useful for quick testing, not recommended for production):---------------------------------------------------\n",
    "\n",
    "#openai_api_key = \"YOUR_OPENAI_API_KEY\"\n",
    "\n",
    "#-------------------------Method 2 - RECOMMENDED (Load API key from .env file, keeps your keys private and safe):--------------------------------\n",
    "load_dotenv(override=True)\n",
    "openai_api_key = os.getenv(\"OPENAI_API_KEY\")\n",
    "\n",
    "if openai_api_key:\n",
    "    print(f\"OpenAI API Key (GPT) exists and begin with {openai_api_key[:7]}\")\n",
    "else:\n",
    "    print(\"OpenAI API Key not found. Please add your key in the .env file in the root directory.\")\n",
    "\n"
   ]
  },
  {
   "cell_type": "code",
   "execution_count": null,
   "id": "ad1c95f9-c6f5-4434-9e93-2c481fbefb6a",
   "metadata": {},
   "outputs": [],
   "source": [
    "openai = OpenAI()"
   ]
  },
  {
   "cell_type": "code",
   "execution_count": null,
   "id": "606d623a-eb7c-480b-90f6-129dff838e5f",
   "metadata": {},
   "outputs": [],
   "source": [
    "input_image = \"test_image.png\"\n",
    "with open (input_image, \"rb\") as f:\n",
    "    img_bytes = f.read()"
   ]
  },
  {
   "cell_type": "code",
   "execution_count": null,
   "id": "46a5400f-bdc9-47b5-812f-913f5b000d09",
   "metadata": {},
   "outputs": [],
   "source": [
    "prompt = \"\"\"Place the glass in the image on a bar counter. \n",
    "The glass should contain ice and a non-alcoholic cocktail made of lemon, elderflower, and sparkling water. \n",
    "Show the ice clearly inside the glass, and make the glass appear cold with condensation. \n",
    "The lighting should be ambient and warm, as if in a cozy jazz bar. \n",
    "Focus on realism, capturing reflections on the glass and the texture of the ice.\n",
    "\"\"\""
   ]
  },
  {
   "cell_type": "code",
   "execution_count": null,
   "id": "491484ad-0db8-497a-8831-87cf59a17b36",
   "metadata": {},
   "outputs": [],
   "source": [
    "result = openai.images.edit (\n",
    "                             model = \"gpt-image-1\",\n",
    "                             prompt = prompt,\n",
    "                             image = [(\"test_image.png\", img_bytes)],\n",
    "                             size = \"1024x1024\"\n",
    "                             )\n",
    "\n",
    "\n",
    "image_base64 = result.data[0].b64_json\n",
    "image_data = base64.b64decode(image_base64)\n",
    "image = Image.open(BytesIO(image_data))\n",
    "\n",
    "display(image)\n"
   ]
  },
  {
   "cell_type": "code",
   "execution_count": null,
   "id": "3a6ad04f-d33d-4787-8040-ff51f94f4d8e",
   "metadata": {},
   "outputs": [],
   "source": [
    "image.save(\"result_image.png\")"
   ]
  }
 ],
 "metadata": {
  "kernelspec": {
   "display_name": "Python 3 (ipykernel)",
   "language": "python",
   "name": "python3"
  },
  "language_info": {
   "codemirror_mode": {
    "name": "ipython",
    "version": 3
   },
   "file_extension": ".py",
   "mimetype": "text/x-python",
   "name": "python",
   "nbconvert_exporter": "python",
   "pygments_lexer": "ipython3",
   "version": "3.11.13"
  }
 },
 "nbformat": 4,
 "nbformat_minor": 5
}
