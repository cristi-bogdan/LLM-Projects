{
 "cells": [
  {
   "cell_type": "code",
   "execution_count": null,
   "id": "5cc250a7-cf6d-44af-a768-aa6e0a8f428d",
   "metadata": {},
   "outputs": [],
   "source": [
    "import os\n",
    "import requests\n",
    "\n",
    "from dotenv import load_dotenv\n",
    "from bs4 import BeautifulSoup\n",
    "from IPython.display import Markdown, display\n",
    "from openai import OpenAI"
   ]
  },
  {
   "cell_type": "code",
   "execution_count": null,
   "id": "a828a981-8246-4e22-a7c1-fc127ffd19bb",
   "metadata": {},
   "outputs": [],
   "source": [
    "#-------------------------Method 1 (Useful for quick testing, not recommended for production):---------------------------------------------------\n",
    "\n",
    "#openai_api_key = \"YOUR_OPENAI_API_KEY\"\n",
    "\n",
    "#-------------------------Method 2 - RECOMMENDED (Load API key from .env file, keeps your keys private and safe):--------------------------------\n",
    "load_dotenv(override=True)\n",
    "openai_api_key = os.getenv(\"OPENAI_API_KEY\")\n",
    "\n",
    "if openai_api_key:\n",
    "    print(f\"OpenAI API Key (GPT) exists and begin with {openai_api_key[:7]}\")\n",
    "else:\n",
    "    print(\"OpenAI API Key not found. Please add your key in the .env file in the root directory.\")"
   ]
  },
  {
   "cell_type": "code",
   "execution_count": null,
   "id": "572a4fb8-78a9-4dea-b41f-2899fdf6f203",
   "metadata": {},
   "outputs": [],
   "source": [
    "openai = OpenAI()"
   ]
  },
  {
   "cell_type": "code",
   "execution_count": null,
   "id": "1ff85666-6797-4ea1-8690-d0f4d81804d6",
   "metadata": {},
   "outputs": [],
   "source": [
    "class FinvizWebsite(): \n",
    "    def __init__(self, ticker):\n",
    "        self.ticker = ticker.upper()\n",
    "        self.url = f\"https://finviz.com/quote.ashx?t={self.ticker}&p=d&ty=ea\"\n",
    "        self.headers = {\n",
    "            \"User-Agent\": \"Mozilla/5.0 (Windows NT 10.0; Win64; x64) AppleWebKit/537.36 (KHTML, like Gecko) Chrome/117.0.0.0 Safari/537.36\"\n",
    "        }\n",
    "        response = requests.get(self.url, headers=self.headers)\n",
    "        soup = BeautifulSoup(response.content, \"html.parser\")\n",
    "        self.title = soup.title.string if soup.title else \"No title found\"\n",
    "        self.table = soup.find(\"table\", class_=\"snapshot-table2\")     "
   ]
  },
  {
   "cell_type": "code",
   "execution_count": null,
   "id": "491c8d38-8d30-4486-90cd-1b29f7e701a7",
   "metadata": {},
   "outputs": [],
   "source": [
    "def messages_for(website):\n",
    "    system_prompt = \"\"\"\n",
    "        You are a financial analysis assistant that analyzes the contents of HTML formated table.\n",
    "    and provides a summary of the stock's analysis with clear and professional language appropriate for financial research \n",
    "    with bulleted important list of **advantages** and **disadvantages** , and also youre recomandation, to buy, to sell or hold ignoring text that might be navigation related. Repond in markdown.\n",
    "    \"\"\"\n",
    "    \n",
    "    user_prompt = f\"\"\"\n",
    "        You are looking at a website titled {website.title}.\\n\n",
    "        The contents of this website is as follows; please provide a summary of the stock's analysis from this website in markdown.\\n\\n\n",
    "        {website.table}\n",
    "    \"\"\"\n",
    "    \n",
    "    return [\n",
    "        {\"role\": \"system\", \"content\": system_prompt},\n",
    "        {\"role\": \"user\", \"content\": user_prompt}\n",
    "    ]\n"
   ]
  },
  {
   "cell_type": "code",
   "execution_count": null,
   "id": "09914666-67b1-46f2-a375-d7797c958e36",
   "metadata": {},
   "outputs": [],
   "source": [
    "def display_summary(ticker):\n",
    "    website = FinvizWebsite(ticker)\n",
    "    response = openai.chat.completions.create(\n",
    "        model = \"gpt-4o-mini\",\n",
    "        messages = messages_for(website)\n",
    "    )\n",
    "    summary = response.choices[0].message.content\n",
    "    display(Markdown(summary))"
   ]
  },
  {
   "cell_type": "code",
   "execution_count": null,
   "id": "bd4014b7-c446-4f42-99b4-4d72559ecff4",
   "metadata": {},
   "outputs": [],
   "source": [
    "display_summary(\"NIO\")"
   ]
  }
 ],
 "metadata": {
  "kernelspec": {
   "display_name": "Python 3 (ipykernel)",
   "language": "python",
   "name": "python3"
  },
  "language_info": {
   "codemirror_mode": {
    "name": "ipython",
    "version": 3
   },
   "file_extension": ".py",
   "mimetype": "text/x-python",
   "name": "python",
   "nbconvert_exporter": "python",
   "pygments_lexer": "ipython3",
   "version": "3.11.13"
  }
 },
 "nbformat": 4,
 "nbformat_minor": 5
}
