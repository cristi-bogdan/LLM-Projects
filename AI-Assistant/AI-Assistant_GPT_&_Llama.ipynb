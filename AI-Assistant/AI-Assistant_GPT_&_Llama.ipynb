{
 "cells": [
  {
   "cell_type": "code",
   "execution_count": 1,
   "id": "8b8f1f96-9d41-4d70-a421-bd16460e678b",
   "metadata": {},
   "outputs": [],
   "source": [
    "import os\n",
    "import ollama\n",
    "\n",
    "from openai import OpenAI\n",
    "from IPython.display import Markdown, display, update_display\n",
    "from dotenv import load_dotenv"
   ]
  },
  {
   "cell_type": "code",
   "execution_count": 2,
   "id": "35eff5fd-4530-43d3-af44-641d775640c3",
   "metadata": {},
   "outputs": [],
   "source": [
    "MODEL_GPT = \"gpt-4o-mini\"\n",
    "MODEL_LLAMA = \"llama3.2\""
   ]
  },
  {
   "cell_type": "code",
   "execution_count": 3,
   "id": "16d0be43-3cdc-493a-9d5f-6f62259066a3",
   "metadata": {},
   "outputs": [
    {
     "name": "stdout",
     "output_type": "stream",
     "text": [
      "OpenAI API Key (GPT) exists and begin with sk-proj\n"
     ]
    }
   ],
   "source": [
    "#-------------------------Method 1 (Useful for quick testing, not recommended for production):---------------------------------------------------\n",
    "\n",
    "#openai_api_key = \"YOUR_OPENAI_API_KEY\"\n",
    "\n",
    "#-------------------------Method 2 - RECOMMENDED (Load API key from .env file, keeps your keys private and safe):--------------------------------\n",
    "load_dotenv(override=True)\n",
    "openai_api_key = os.getenv(\"OPENAI_API_KEY\")\n",
    "\n",
    "if openai_api_key:\n",
    "    print(f\"OpenAI API Key (GPT) exists and begin with {openai_api_key[:7]}\")\n",
    "else:\n",
    "    print(\"OpenAI API Key not found. Please add your key in the .env file in the root directory.\")"
   ]
  },
  {
   "cell_type": "code",
   "execution_count": 4,
   "id": "1167787c-ec69-464d-862a-ae1ec0bff03c",
   "metadata": {},
   "outputs": [],
   "source": [
    "openai = OpenAI()"
   ]
  },
  {
   "cell_type": "code",
   "execution_count": 5,
   "id": "4d42e60e-f90e-47df-bc08-33ed25eddbb7",
   "metadata": {},
   "outputs": [],
   "source": [
    "question = \"Please explain which LLM model is the best and why. You should choose from GPT, LLama, Claude, and Gemini.\""
   ]
  },
  {
   "cell_type": "code",
   "execution_count": 6,
   "id": "4476e198-a85f-4740-8462-a7768217f8a3",
   "metadata": {},
   "outputs": [],
   "source": [
    "system_prompt = \"You are a technical assistant who answers questions about LLMs and provides information about these models.\"\n",
    "user_prompt = \"Please give a detailed explanation to the following question:\" + question"
   ]
  },
  {
   "cell_type": "code",
   "execution_count": 7,
   "id": "7f0355c4-237d-47c4-a6db-8913dd6a1b7e",
   "metadata": {},
   "outputs": [],
   "source": [
    "messages = [\n",
    "    { \"role\" : \"system\" , \"content\" : system_prompt },\n",
    "    { \"role\" : \"user\" , \"content\" : user_prompt }\n",
    "]"
   ]
  },
  {
   "cell_type": "code",
   "execution_count": null,
   "id": "1f434098-43bd-4feb-b8ef-90ce8b14a48e",
   "metadata": {},
   "outputs": [],
   "source": [
    "#GPT\n",
    "stream = openai.chat.completions.create(model=MODEL_GPT, messages=messages,stream=True)\n",
    "    \n",
    "response = \"\"\n",
    "display_handle = display(Markdown(\"\"), display_id=True)\n",
    "for chunk in stream:\n",
    "    response += chunk.choices[0].delta.content or ''\n",
    "    response = response.replace(\"```\",\"\").replace(\"markdown\", \"\")\n",
    "    update_display(Markdown(response), display_id=display_handle.display_id)\n"
   ]
  },
  {
   "cell_type": "code",
   "execution_count": null,
   "id": "ad507396-25b9-4f83-84c3-1ede9fae96b0",
   "metadata": {},
   "outputs": [],
   "source": [
    "#Llama\n",
    "response = ollama.chat(model=MODEL_LLAMA, messages=messages)\n",
    "reply = response['message']['content']\n",
    "display(Markdown(reply))"
   ]
  }
 ],
 "metadata": {
  "kernelspec": {
   "display_name": "Python 3 (ipykernel)",
   "language": "python",
   "name": "python3"
  },
  "language_info": {
   "codemirror_mode": {
    "name": "ipython",
    "version": 3
   },
   "file_extension": ".py",
   "mimetype": "text/x-python",
   "name": "python",
   "nbconvert_exporter": "python",
   "pygments_lexer": "ipython3",
   "version": "3.11.13"
  }
 },
 "nbformat": 4,
 "nbformat_minor": 5
}
