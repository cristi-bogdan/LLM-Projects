{
 "cells": [
  {
   "cell_type": "code",
   "execution_count": null,
   "id": "e35ca524-9f81-4d74-8fdd-0d8f3fd48d3c",
   "metadata": {},
   "outputs": [],
   "source": [
    "import os\n",
    "import requests"
   ]
  },
  {
   "cell_type": "code",
   "execution_count": null,
   "id": "24053b5d-fa84-41e5-ad61-5b47a11191a3",
   "metadata": {},
   "outputs": [],
   "source": [
    "from dotenv import load_dotenv \n",
    "from IPython.display import Markdown, display \n",
    "from bs4 import BeautifulSoup\n",
    "from openai import OpenAI "
   ]
  },
  {
   "cell_type": "code",
   "execution_count": null,
   "id": "d7cac509-cb7e-4332-93e0-a91ddbfc8c91",
   "metadata": {},
   "outputs": [],
   "source": [
    "#-------------------------Method 1 (Useful for quick testing, not recommended for production):---------------------------------------------------\n",
    "\n",
    "#openai_api_key = \"YOUR_OPENAI_API_KEY\"\n",
    "\n",
    "#-------------------------Method 2 - RECOMMENDED (Load API key from .env file, keeps your keys private and safe):--------------------------------\n",
    "load_dotenv(override=True)\n",
    "openai_api_key = os.getenv(\"OPENAI_API_KEY\")\n",
    "\n",
    "if openai_api_key:\n",
    "    print(f\"OpenAI API Key (GPT) exists and begin with {openai_api_key[:7]}\")\n",
    "else:\n",
    "    print(\"OpenAI API Key not found. Please add your key in the .env file in the root directory.\")"
   ]
  },
  {
   "cell_type": "code",
   "execution_count": null,
   "id": "f7e387c6-b5ed-4861-992f-4e527247dedf",
   "metadata": {},
   "outputs": [],
   "source": [
    "openai = OpenAI()"
   ]
  },
  {
   "cell_type": "code",
   "execution_count": null,
   "id": "51f9c196-e11b-4dd0-b3f7-23e1a0a20385",
   "metadata": {},
   "outputs": [],
   "source": [
    "headers = { \"User-Agent\": \"Mozilla/5.0 (Windows NT 10.0; Win64; x64) AppleWebKit/537.36 (KHTML, like Gecko) Chrome/117.0.0.0 Safari/537.36\" }\n",
    "\n",
    "class Website:\n",
    "\n",
    "    def __init__(self,url):\n",
    "        self.url = url;\n",
    "        response = requests.get(url, headers = headers)\n",
    "        soup = BeautifulSoup(response.content, 'html.parser')\n",
    "        self.title = soup.title.string if soup.title else \"No title found\"\n",
    "        for irrelevant in soup.body([\"script\", \"style\", \"img\" ,\"input\"]):\n",
    "            irrelevant.decompose()\n",
    "        self.text = soup.body.get_text(separator=\"\\n\", strip = True)       "
   ]
  },
  {
   "cell_type": "code",
   "execution_count": null,
   "id": "7d7c69bf-5f4e-41b8-b631-56d158c45134",
   "metadata": {},
   "outputs": [],
   "source": [
    "system_prompt = \"You are an assistant that analyzes the contents of a website \\\n",
    "and provides a short summary, ignoring text that might be navigation related. \\\n",
    "Respond in markdown.\""
   ]
  },
  {
   "cell_type": "code",
   "execution_count": null,
   "id": "98c95a38-1e34-4494-85b8-fab606e4b029",
   "metadata": {},
   "outputs": [],
   "source": [
    "def user_prompt_for(website):  \n",
    "    user_prompt = f\"You are looking at a website titled {website.title}\"  \n",
    "    user_prompt += \"\\nThe contents of this website is as follows; \\\n",
    "please provide a short summary of this website in markdown. \\\n",
    "If it includes news or announcements, then summarize these too.\\n\\n\"  \n",
    "    user_prompt += website.text  \n",
    "    return user_prompt "
   ]
  },
  {
   "cell_type": "code",
   "execution_count": null,
   "id": "717cdf1e-8587-43b2-b012-f8e32535bf8f",
   "metadata": {},
   "outputs": [],
   "source": [
    "def messages_for(website):  \n",
    "    return [\n",
    "        {\"role\": \"system\", \"content\": system_prompt},\n",
    "        {\"role\": \"user\", \"content\": user_prompt_for(website)}\n",
    "    ]"
   ]
  },
  {
   "cell_type": "code",
   "execution_count": null,
   "id": "416a17d9-4f33-4f4e-8b19-c338978ffc7c",
   "metadata": {},
   "outputs": [],
   "source": [
    "def display_summary(url):\n",
    "    website = Website(url)\n",
    "    response = openai.chat.completions.create(  \n",
    "        model=\"gpt-4o-mini\",  \n",
    "        messages=messages_for(website)  \n",
    "    )\n",
    "    summary = response.choices[0].message.content  \n",
    "    display(Markdown(summary))  "
   ]
  },
  {
   "cell_type": "code",
   "execution_count": null,
   "id": "465147df-6dc6-40ae-a941-f8ca243edc1d",
   "metadata": {},
   "outputs": [],
   "source": [
    "display_summary(\"https://github.com/cristi-bogdan\")"
   ]
  }
 ],
 "metadata": {
  "kernelspec": {
   "display_name": "Python 3 (ipykernel)",
   "language": "python",
   "name": "python3"
  },
  "language_info": {
   "codemirror_mode": {
    "name": "ipython",
    "version": 3
   },
   "file_extension": ".py",
   "mimetype": "text/x-python",
   "name": "python",
   "nbconvert_exporter": "python",
   "pygments_lexer": "ipython3",
   "version": "3.11.13"
  }
 },
 "nbformat": 4,
 "nbformat_minor": 5
}
